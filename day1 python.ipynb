{
 "cells": [
  {
   "cell_type": "code",
   "execution_count": 4,
   "id": "30fdcaef-49a7-4d51-a884-dc9a603f9e3c",
   "metadata": {},
   "outputs": [
    {
     "name": "stdout",
     "output_type": "stream",
     "text": [
      "<class 'int'>\n",
      "<class 'str'>\n",
      "<class 'float'>\n",
      "<class 'bool'>\n"
     ]
    }
   ],
   "source": [
    "# Data types and type checking\n",
    "Age = 25\n",
    "name = \"alice\"\n",
    "height = 5.6\n",
    "is_student = True\n",
    "print(type(Age))\n",
    "print(type(name))\n",
    "print(type(height))\n",
    "print(type(is_student))"
   ]
  },
  {
   "cell_type": "code",
   "execution_count": 12,
   "id": "37144b64-a320-451b-846b-b4da725fca77",
   "metadata": {},
   "outputs": [
    {
     "name": "stdout",
     "output_type": "stream",
     "text": [
      "[1, 'Rowan', 3, 4.5, True, 5000]\n"
     ]
    }
   ],
   "source": [
    "# List and tuple manipulation\n",
    "my_list = [1, \"alex\", 3, 4.5, True]\n",
    "my_tuple = (1, 2, 3)\n",
    "my_range = range(0, 5)\n",
    "my_list.append(5000)\n",
    "my_list[1] = \"Rowan\"\n",
    "print(my_list)\n"
   ]
  },
  {
   "cell_type": "code",
   "execution_count": 14,
   "id": "877f3e64-e146-4ba2-9210-fd4ca85d97d7",
   "metadata": {},
   "outputs": [
    {
     "name": "stdout",
     "output_type": "stream",
     "text": [
      "1\n",
      "['Rowan', 3, 4.5, True, 5000]\n"
     ]
    }
   ],
   "source": [
    "first_item = my_list.pop(0)\n",
    "print(first_item)\n",
    "print(my_list)"
   ]
  },
  {
   "cell_type": "code",
   "execution_count": 16,
   "id": "2476bed0-139b-4ce8-9715-24b7de1e06b5",
   "metadata": {},
   "outputs": [
    {
     "name": "stdout",
     "output_type": "stream",
     "text": [
      "12345678909876543210123456789\n"
     ]
    }
   ],
   "source": [
    "# Integer literals and formats\n",
    "score = 100\n",
    "temperature = -5\n",
    "population = 80000000\n",
    "big_number = 12345678909876543210123456789\n",
    "print(big_number)"
   ]
  },
  {
   "cell_type": "code",
   "execution_count": 18,
   "id": "24c527b7-7c66-46d8-a408-375243a69bd4",
   "metadata": {},
   "outputs": [
    {
     "name": "stdout",
     "output_type": "stream",
     "text": [
      "10\n",
      "10\n",
      "10\n"
     ]
    }
   ],
   "source": [
    "binary = 0b1010\n",
    "octal = 0o12\n",
    "hexadecimal = 0xA\n",
    "print(binary)\n",
    "print(octal)\n",
    "print(hexadecimal)"
   ]
  },
  {
   "cell_type": "code",
   "execution_count": 20,
   "id": "779066c1-edad-4916-a6c0-f56604b44b48",
   "metadata": {},
   "outputs": [
    {
     "name": "stdout",
     "output_type": "stream",
     "text": [
      "0.30000000000000004\n"
     ]
    }
   ],
   "source": [
    "# Float numbers and precision\n",
    "pi = 3.1415\n",
    "price = 29.99\n",
    "scientific = 1.5e10\n",
    "print(0.1 + 0.2)  # Floating point precision"
   ]
  },
  {
   "cell_type": "code",
   "execution_count": 22,
   "id": "a4ff8937-43d7-473d-a39f-a13402a890c3",
   "metadata": {},
   "outputs": [
    {
     "name": "stdout",
     "output_type": "stream",
     "text": [
      "13\n",
      "7\n",
      "30\n",
      "3.3333333333333335\n",
      "3\n",
      "1\n",
      "1000\n"
     ]
    }
   ],
   "source": [
    "# Arithmetic operations\n",
    "a = 10\n",
    "b = 3\n",
    "print(a + b)\n",
    "print(a - b)\n",
    "print(a * b)\n",
    "print(a / b)\n",
    "print(a // b)  # Integer division\n",
    "print(a % b)\n",
    "print(a ** b)"
   ]
  },
  {
   "cell_type": "code",
   "execution_count": 24,
   "id": "d696f90b-2e0c-4347-8eb8-093dc5e11b5a",
   "metadata": {},
   "outputs": [
    {
     "name": "stdout",
     "output_type": "stream",
     "text": [
      "35.7\n",
      "-35\n",
      "-36\n",
      "-36 2\n",
      "62\n",
      "1\n",
      "4.0\n"
     ]
    }
   ],
   "source": [
    "# Math functions\n",
    "import math\n",
    "\n",
    "number = -35.7\n",
    "print(abs(number))\n",
    "print(math.ceil(number))\n",
    "print(math.floor(number))\n",
    "print(round(number), 2)\n",
    "print(max(1, 62, 8, 9, 34))\n",
    "print(min(1, 62, 8, 9, 34))\n",
    "print(math.sqrt(16))\n"
   ]
  },
  {
   "cell_type": "code",
   "execution_count": 26,
   "id": "46295327-c0d2-4db6-b0ab-77c0f8b8eb99",
   "metadata": {},
   "outputs": [
    {
     "name": "stdout",
     "output_type": "stream",
     "text": [
      "True\n"
     ]
    }
   ],
   "source": [
    "# Comparison operator\n",
    "age = 25\n",
    "is_adult = age >= 18\n",
    "print(is_adult)"
   ]
  },
  {
   "cell_type": "code",
   "execution_count": 28,
   "id": "b172c728-850a-4cb3-98a7-ede520f9b4f8",
   "metadata": {},
   "outputs": [
    {
     "name": "stdout",
     "output_type": "stream",
     "text": [
      "['__doc__', '__loader__', '__name__', '__package__', '__spec__', 'acos', 'acosh', 'asin', 'asinh', 'atan', 'atan2', 'atanh', 'cbrt', 'ceil', 'comb', 'copysign', 'cos', 'cosh', 'degrees', 'dist', 'e', 'erf', 'erfc', 'exp', 'exp2', 'expm1', 'fabs', 'factorial', 'floor', 'fmod', 'frexp', 'fsum', 'gamma', 'gcd', 'hypot', 'inf', 'isclose', 'isfinite', 'isinf', 'isnan', 'isqrt', 'lcm', 'ldexp', 'lgamma', 'log', 'log10', 'log1p', 'log2', 'modf', 'nan', 'nextafter', 'perm', 'pi', 'pow', 'prod', 'radians', 'remainder', 'sin', 'sinh', 'sqrt', 'sumprod', 'tan', 'tanh', 'tau', 'trunc', 'ulp']\n",
      "Help on built-in function comb in module math:\n",
      "\n",
      "comb(n, k, /)\n",
      "    Number of ways to choose k items from n items without repetition and without order.\n",
      "\n",
      "    Evaluates to n! / (k! * (n - k)!) when k <= n and evaluates\n",
      "    to zero when k > n.\n",
      "\n",
      "    Also called the binomial coefficient because it is equivalent\n",
      "    to the coefficient of k-th term in polynomial expansion of the\n",
      "    expression (1 + x)**n.\n",
      "\n",
      "    Raises TypeError if either of the arguments are not integers.\n",
      "    Raises ValueError if either of the arguments are negative.\n",
      "\n"
     ]
    }
   ],
   "source": [
    "# View math module methods\n",
    "print(dir(math))\n",
    "help(math.comb)\n"
   ]
  },
  {
   "cell_type": "code",
   "execution_count": 30,
   "id": "36e329cf-bc9c-48e2-8109-8ad794d5a359",
   "metadata": {},
   "outputs": [
    {
     "name": "stdout",
     "output_type": "stream",
     "text": [
      "True\n",
      "False\n",
      "False\n",
      "True\n",
      "False\n",
      "False\n",
      "True\n"
     ]
    }
   ],
   "source": [
    "# Logical operations\n",
    "print(True and True)\n",
    "print(True and False)\n",
    "print(False and False)\n",
    "\n",
    "print(True or False)\n",
    "print(False or False)\n",
    "\n",
    "print(not True)\n",
    "print(not False)"
   ]
  },
  {
   "cell_type": "code",
   "execution_count": 32,
   "id": "a17a9da3-4066-4db9-af5d-40f32435261b",
   "metadata": {},
   "outputs": [
    {
     "name": "stdout",
     "output_type": "stream",
     "text": [
      "False\n",
      "True\n",
      "True\n",
      "False\n",
      "True\n",
      "False\n"
     ]
    }
   ],
   "source": [
    "# Relational operators\n",
    "a = 10\n",
    "b = 5\n",
    "print(a == b)\n",
    "print(a != b)\n",
    "print(a > b)\n",
    "print(a < b)\n",
    "print(a >= b)\n",
    "print(a <= b)\n"
   ]
  },
  {
   "cell_type": "code",
   "execution_count": 34,
   "id": "e935df3d-62e5-4f76-9382-92b772fa4862",
   "metadata": {},
   "outputs": [
    {
     "name": "stdout",
     "output_type": "stream",
     "text": [
      "True\n"
     ]
    }
   ],
   "source": [
    "# Boolean from string\n",
    "ram = \"0\"\n",
    "hari = bool(ram)\n",
    "print(hari)\n"
   ]
  },
  {
   "cell_type": "code",
   "execution_count": 36,
   "id": "27d3f162-b2e5-422b-865e-3b26a83b8bca",
   "metadata": {},
   "outputs": [
    {
     "name": "stdout",
     "output_type": "stream",
     "text": [
      "-4\n"
     ]
    }
   ],
   "source": [
    "# Floor division negative example\n",
    "print(-7 // 2)"
   ]
  },
  {
   "cell_type": "code",
   "execution_count": null,
   "id": "140598e8-265a-49f3-bda0-016db2a38ee8",
   "metadata": {},
   "outputs": [],
   "source": []
  }
 ],
 "metadata": {
  "kernelspec": {
   "display_name": "Python 3 (ipykernel)",
   "language": "python",
   "name": "python3"
  },
  "language_info": {
   "codemirror_mode": {
    "name": "ipython",
    "version": 3
   },
   "file_extension": ".py",
   "mimetype": "text/x-python",
   "name": "python",
   "nbconvert_exporter": "python",
   "pygments_lexer": "ipython3",
   "version": "3.12.7"
  }
 },
 "nbformat": 4,
 "nbformat_minor": 5
}
