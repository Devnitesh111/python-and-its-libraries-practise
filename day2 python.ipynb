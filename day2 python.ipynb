{
 "cells": [
  {
   "cell_type": "code",
   "execution_count": 39,
   "id": "4fa8f93f-8d52-4b4b-b61e-2a22b0a6c982",
   "metadata": {},
   "outputs": [
    {
     "name": "stdout",
     "output_type": "stream",
     "text": [
      "{1, 2, 3, 4, 5}\n"
     ]
    }
   ],
   "source": [
    "# Sets\n",
    "numbers ={1,2,3,4,5,5}\n",
    "print(numbers)"
   ]
  },
  {
   "cell_type": "code",
   "execution_count": 43,
   "id": "b94c3b0c-6be9-4655-875b-dc7d7978b204",
   "metadata": {},
   "outputs": [
    {
     "name": "stdout",
     "output_type": "stream",
     "text": [
      "{1, 2, 3, 4, 5, 6}\n"
     ]
    }
   ],
   "source": [
    "numbers.add(6)\n",
    "print(numbers)"
   ]
  },
  {
   "cell_type": "code",
   "execution_count": 45,
   "id": "a1b44f11-a39a-41ef-bcfe-d5e9a16274ce",
   "metadata": {},
   "outputs": [
    {
     "name": "stdout",
     "output_type": "stream",
     "text": [
      "{1, 2, 3, 5, 6}\n"
     ]
    }
   ],
   "source": [
    "numbers.remove(4)\n",
    "print(numbers)"
   ]
  },
  {
   "cell_type": "code",
   "execution_count": 47,
   "id": "a07507fd-dd94-4e20-94ac-4e4ef2bc8fda",
   "metadata": {},
   "outputs": [
    {
     "name": "stdout",
     "output_type": "stream",
     "text": [
      "{'hello', 1, 2.5, (3, 4)}\n"
     ]
    }
   ],
   "source": [
    "setdata={1,2.5,\"hello\",(3,4)}\n",
    "print(setdata)"
   ]
  },
  {
   "cell_type": "code",
   "execution_count": 49,
   "id": "0c7e42a8-f95d-4106-a172-6fb6a2a43af6",
   "metadata": {},
   "outputs": [
    {
     "name": "stdout",
     "output_type": "stream",
     "text": [
      "Alice\n"
     ]
    }
   ],
   "source": [
    "# Dictionary\n",
    "student={\n",
    "    \"student_name\":\"Alice\",\n",
    "    \"age\":25,\n",
    "    \"student_location\":\"kathmandu\"\n",
    "}\n",
    "print(student[\"student_name\"])\n",
    "    "
   ]
  },
  {
   "cell_type": "code",
   "execution_count": 51,
   "id": "8e0fc0e5-d9dd-4810-86ae-16f2610ea1fc",
   "metadata": {},
   "outputs": [
    {
     "name": "stdout",
     "output_type": "stream",
     "text": [
      "{'student_name': 'Alice', 'age': 22, 'student_location': 'kathmandu', 'contactno': 9867632323}\n"
     ]
    }
   ],
   "source": [
    "student[\"age\"]=22\n",
    "student[\"contactno\"]=9867632323\n",
    "print(student)"
   ]
  },
  {
   "cell_type": "code",
   "execution_count": 55,
   "id": "86ac4c96-45a4-45d7-aaeb-7127ae5d1edf",
   "metadata": {},
   "outputs": [],
   "source": [
    "# Dictionary key error example (unhashable type)\n",
    "# my_dict = {}\n",
    "# key = [1, 2, 3]\n",
    "# my_dict[key] = \"values\"  # This will raise TypeError"
   ]
  },
  {
   "cell_type": "code",
   "execution_count": 57,
   "id": "4e8c29bc-8658-4b15-b944-ff19f76d768b",
   "metadata": {},
   "outputs": [
    {
     "name": "stdout",
     "output_type": "stream",
     "text": [
      "{(1, 2, 3): 'values'}\n"
     ]
    }
   ],
   "source": [
    "# Hashable tuple as dict key\n",
    "my_dict={}\n",
    "key=(1,2,3)\n",
    "my_dict[key]=\"values\"\n",
    "print(my_dict)"
   ]
  },
  {
   "cell_type": "code",
   "execution_count": 59,
   "id": "b1ed4c0d-c48f-4395-a5ed-f9eb84604145",
   "metadata": {},
   "outputs": [
    {
     "name": "stdin",
     "output_type": "stream",
     "text": [
      "enter a number: 2\n"
     ]
    },
    {
     "name": "stdout",
     "output_type": "stream",
     "text": [
      "even\n"
     ]
    }
   ],
   "source": [
    "# Conditional check for even/odd\n",
    "x= int(input(\"enter a number:\"))\n",
    "if x%2 == 0:\n",
    "    print(\"even\")\n",
    "elif x%2 == 1:\n",
    "    print(\"odd\")\n",
    "else:\n",
    "    print(\"neither even nor odd\")\n",
    "    "
   ]
  },
  {
   "cell_type": "code",
   "execution_count": 73,
   "id": "d6da4b51-08e1-4be2-981b-f6a70e32924f",
   "metadata": {},
   "outputs": [
    {
     "name": "stdout",
     "output_type": "stream",
     "text": [
      "for loop iteration 0\n",
      "while count is 0\n",
      "while count is 1\n",
      "while count is 2\n",
      "for loop iteration 1\n",
      "while count is 0\n",
      "while count is 1\n",
      "while count is 2\n",
      "for loop iteration 2\n",
      "while count is 0\n",
      "while count is 1\n",
      "while count is 2\n"
     ]
    }
   ],
   "source": [
    "# Loops\n",
    "for i in range(3):\n",
    "    print(\"for loop iteration\",i)\n",
    "    count=0\n",
    "    while count<3:\n",
    "        print(\"while count is\",count)\n",
    "        count+=1\n",
    "\n",
    "\n",
    "    "
   ]
  },
  {
   "cell_type": "code",
   "execution_count": 75,
   "id": "ec80459a-4af9-4d17-b077-dd321dcc62b9",
   "metadata": {},
   "outputs": [
    {
     "name": "stdout",
     "output_type": "stream",
     "text": [
      "break loop i= 0\n",
      "break loop i= 1\n",
      "break loop i= 2\n"
     ]
    }
   ],
   "source": [
    "for i in range(5):\n",
    "    if i == 3:\n",
    "        break\n",
    "    print(\"break loop i=\", i)"
   ]
  },
  {
   "cell_type": "code",
   "execution_count": 77,
   "id": "94a4c3a7-c968-45fd-a5d4-a5dd391be128",
   "metadata": {},
   "outputs": [
    {
     "name": "stdout",
     "output_type": "stream",
     "text": [
      "continue loop i= 0\n",
      "continue loop i= 1\n",
      "continue loop i= 2\n",
      "continue loop i= 4\n"
     ]
    }
   ],
   "source": [
    "for i in range(5):\n",
    "    if i == 3:\n",
    "        continue\n",
    "    print(\"continue loop i=\", i)"
   ]
  },
  {
   "cell_type": "code",
   "execution_count": 79,
   "id": "0781d684-013d-4703-a683-b8628a128132",
   "metadata": {},
   "outputs": [
    {
     "name": "stdout",
     "output_type": "stream",
     "text": [
      "Done with pass examples\n"
     ]
    }
   ],
   "source": [
    "for i in range(2):\n",
    "    pass\n",
    "print(\"Done with pass examples\")"
   ]
  },
  {
   "cell_type": "code",
   "execution_count": 95,
   "id": "1c22c747-1ca5-4465-acfb-8ae51b0359a1",
   "metadata": {},
   "outputs": [
    {
     "name": "stdout",
     "output_type": "stream",
     "text": [
      "Hello, Alice\n",
      "Hello, Alice\n"
     ]
    }
   ],
   "source": [
    "# Function\n",
    "def greet(name):\n",
    "    return f\"Hello, {name}\"\n",
    "\n",
    "print(greet(\"Alice\"))\n",
    "message = greet(\"Alice\")\n",
    "print(message)"
   ]
  },
  {
   "cell_type": "code",
   "execution_count": 97,
   "id": "9127cfe0-363b-4138-939c-7fe2af0e24e1",
   "metadata": {},
   "outputs": [
    {
     "name": "stdout",
     "output_type": "stream",
     "text": [
      "      name  age   location\n",
      "0    alice   25  kathmandu\n",
      "1      bob   30  bhaktapur\n",
      "2  charlie   35   lalitpur\n"
     ]
    }
   ],
   "source": [
    "# Pandas DataFrame\n",
    "import pandas as pd\n",
    "data={\n",
    "    \"name\":[\"alice\",\"bob\",\"charlie\"],\n",
    "    \"age\":[25,30,35],\n",
    "    \"location\":[\"kathmandu\",\"bhaktapur\",\"lalitpur\"]\n",
    "}\n",
    "df=pd.DataFrame(data)\n",
    "print(df)"
   ]
  },
  {
   "cell_type": "code",
   "execution_count": 117,
   "id": "dff90337-8ef2-4a05-bb45-9585bf1bb0f1",
   "metadata": {},
   "outputs": [
    {
     "name": "stdout",
     "output_type": "stream",
     "text": [
      "(3, 3)\n",
      "Index(['name', 'age', 'location'], dtype='object')\n",
      "name        object\n",
      "age          int64\n",
      "location    object\n",
      "dtype: object\n",
      "    name  age   location\n",
      "0  alice   25  kathmandu\n"
     ]
    }
   ],
   "source": [
    "# print(df.head())\n",
    "# print(df.tail())\n",
    "print(df.shape)\n",
    "print(df.columns)\n",
    "print(df.dtypes)\n",
    "result = df[df[\"age\"] == 25]\n",
    "print(result)\n"
   ]
  },
  {
   "cell_type": "code",
   "execution_count": 119,
   "id": "2195e454-565d-469c-8670-0fcba2ffa1ed",
   "metadata": {},
   "outputs": [
    {
     "name": "stdout",
     "output_type": "stream",
     "text": [
      "<class 'str'>\n",
      "HELLO\n"
     ]
    }
   ],
   "source": [
    "# String type check\n",
    "x=\"hello\"\n",
    "print(type(x))\n",
    "print(x.upper())"
   ]
  },
  {
   "cell_type": "code",
   "execution_count": 121,
   "id": "19a11c11-4fe0-4a86-8b3b-a5fc393919d3",
   "metadata": {},
   "outputs": [
    {
     "name": "stdout",
     "output_type": "stream",
     "text": [
      "df1 dtypes:\n",
      " name    object\n",
      "dtype: object\n",
      "<class 'str'>\n"
     ]
    }
   ],
   "source": [
    "# DataFrame with type checking\n",
    "df1 = pd.DataFrame({\n",
    "      \"name\":[\"alice\",\"bob\",\"charlie\"]\n",
    "})\n",
    "print(\"df1 dtypes:\\n\",df1.dtypes)\n",
    "print(type(df1['name'][0]))"
   ]
  },
  {
   "cell_type": "code",
   "execution_count": 125,
   "id": "1afd5ab7-5e4d-4ef1-aff2-1dbe70b60099",
   "metadata": {},
   "outputs": [
    {
     "name": "stdout",
     "output_type": "stream",
     "text": [
      "df1 dtypes:\n",
      " Name    string[python]\n",
      "dtype: object\n",
      "<class 'str'>\n"
     ]
    }
   ],
   "source": [
    "df1 = pd.DataFrame({\n",
    "    \"Name\": pd.Series([\"Alice\", \"Bob\", \"Charlie\"], dtype=\"string\")\n",
    "})\n",
    "print(\"df1 dtypes:\\n\", df1.dtypes)\n",
    "print(type(df1['Name'][0]))"
   ]
  },
  {
   "cell_type": "code",
   "execution_count": 137,
   "id": "3ca52a8e-ffd3-4cf9-a252-87bf3ef06924",
   "metadata": {},
   "outputs": [
    {
     "name": "stdout",
     "output_type": "stream",
     "text": [
      "      name   location\n",
      "0    alice  kathmandu\n",
      "1      bob  bhaktapur\n",
      "2  charlie   lalitpur\n"
     ]
    }
   ],
   "source": [
    "# DataFrame data access\n",
    "# print(df[\"name\"])\n",
    "print(df[[\"name\",\"location\"]])\n",
    "# print(df.loc[0])"
   ]
  },
  {
   "cell_type": "code",
   "execution_count": null,
   "id": "a0ddfa04-8f0a-4cec-8be2-5371c1a5d1b2",
   "metadata": {},
   "outputs": [],
   "source": []
  }
 ],
 "metadata": {
  "kernelspec": {
   "display_name": "Python 3 (ipykernel)",
   "language": "python",
   "name": "python3"
  },
  "language_info": {
   "codemirror_mode": {
    "name": "ipython",
    "version": 3
   },
   "file_extension": ".py",
   "mimetype": "text/x-python",
   "name": "python",
   "nbconvert_exporter": "python",
   "pygments_lexer": "ipython3",
   "version": "3.12.7"
  }
 },
 "nbformat": 4,
 "nbformat_minor": 5
}
